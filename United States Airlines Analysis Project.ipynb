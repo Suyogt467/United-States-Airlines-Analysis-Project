{
 "cells": [
  {
   "cell_type": "code",
   "execution_count": 1,
   "id": "ffa6a39a",
   "metadata": {},
   "outputs": [],
   "source": [
    "from scipy.io import arff\n",
    "import pandas as pd\n",
    "import numpy as np\n",
    "import matplotlib.pyplot as plt\n",
    "import seaborn as sns\n",
    "import matplotlib as mpl\n",
    "from sklearn.model_selection import KFold\n",
    "from sklearn.model_selection import cross_validate\n",
    "from scipy.stats import randint\n",
    "from sklearn import metrics\n"
   ]
  },
  {
   "cell_type": "code",
   "execution_count": 2,
   "id": "7a7fb189",
   "metadata": {},
   "outputs": [],
   "source": [
    "Airlines = pd.read_excel('G:\\\\Machine Learning\\\\FINAL BOOTCAMP PROJECT\\\\capstone\\\\Capstone_3\\\\Airlines.xlsx')\n"
   ]
  },
  {
   "cell_type": "code",
   "execution_count": 3,
   "id": "3b8bbd3e",
   "metadata": {},
   "outputs": [],
   "source": [
    "Runways = pd.read_excel('G:\\\\Machine Learning\\\\FINAL BOOTCAMP PROJECT\\\\capstone\\\\Capstone_3\\\\runways.xlsx')"
   ]
  },
  {
   "cell_type": "code",
   "execution_count": 4,
   "id": "d6e06c3f",
   "metadata": {},
   "outputs": [
    {
     "data": {
      "text/html": [
       "<div>\n",
       "<style scoped>\n",
       "    .dataframe tbody tr th:only-of-type {\n",
       "        vertical-align: middle;\n",
       "    }\n",
       "\n",
       "    .dataframe tbody tr th {\n",
       "        vertical-align: top;\n",
       "    }\n",
       "\n",
       "    .dataframe thead th {\n",
       "        text-align: right;\n",
       "    }\n",
       "</style>\n",
       "<table border=\"1\" class=\"dataframe\">\n",
       "  <thead>\n",
       "    <tr style=\"text-align: right;\">\n",
       "      <th></th>\n",
       "      <th>id</th>\n",
       "      <th>Airline</th>\n",
       "      <th>Flight</th>\n",
       "      <th>AirportFrom</th>\n",
       "      <th>AirportTo</th>\n",
       "      <th>DayOfWeek</th>\n",
       "      <th>Time</th>\n",
       "      <th>Length</th>\n",
       "      <th>Delay</th>\n",
       "    </tr>\n",
       "  </thead>\n",
       "  <tbody>\n",
       "    <tr>\n",
       "      <th>0</th>\n",
       "      <td>1</td>\n",
       "      <td>CO</td>\n",
       "      <td>269</td>\n",
       "      <td>SFO</td>\n",
       "      <td>IAH</td>\n",
       "      <td>3</td>\n",
       "      <td>15</td>\n",
       "      <td>205</td>\n",
       "      <td>1</td>\n",
       "    </tr>\n",
       "    <tr>\n",
       "      <th>1</th>\n",
       "      <td>2</td>\n",
       "      <td>US</td>\n",
       "      <td>1558</td>\n",
       "      <td>PHX</td>\n",
       "      <td>CLT</td>\n",
       "      <td>3</td>\n",
       "      <td>15</td>\n",
       "      <td>222</td>\n",
       "      <td>1</td>\n",
       "    </tr>\n",
       "    <tr>\n",
       "      <th>2</th>\n",
       "      <td>3</td>\n",
       "      <td>AA</td>\n",
       "      <td>2400</td>\n",
       "      <td>LAX</td>\n",
       "      <td>DFW</td>\n",
       "      <td>3</td>\n",
       "      <td>20</td>\n",
       "      <td>165</td>\n",
       "      <td>1</td>\n",
       "    </tr>\n",
       "    <tr>\n",
       "      <th>3</th>\n",
       "      <td>4</td>\n",
       "      <td>AA</td>\n",
       "      <td>2466</td>\n",
       "      <td>SFO</td>\n",
       "      <td>DFW</td>\n",
       "      <td>3</td>\n",
       "      <td>20</td>\n",
       "      <td>195</td>\n",
       "      <td>1</td>\n",
       "    </tr>\n",
       "    <tr>\n",
       "      <th>4</th>\n",
       "      <td>5</td>\n",
       "      <td>AS</td>\n",
       "      <td>108</td>\n",
       "      <td>ANC</td>\n",
       "      <td>SEA</td>\n",
       "      <td>3</td>\n",
       "      <td>30</td>\n",
       "      <td>202</td>\n",
       "      <td>0</td>\n",
       "    </tr>\n",
       "  </tbody>\n",
       "</table>\n",
       "</div>"
      ],
      "text/plain": [
       "   id Airline  Flight AirportFrom AirportTo  DayOfWeek  Time  Length  Delay\n",
       "0   1      CO     269         SFO       IAH          3    15     205      1\n",
       "1   2      US    1558         PHX       CLT          3    15     222      1\n",
       "2   3      AA    2400         LAX       DFW          3    20     165      1\n",
       "3   4      AA    2466         SFO       DFW          3    20     195      1\n",
       "4   5      AS     108         ANC       SEA          3    30     202      0"
      ]
     },
     "execution_count": 4,
     "metadata": {},
     "output_type": "execute_result"
    }
   ],
   "source": [
    "Airlines.head()"
   ]
  },
  {
   "cell_type": "code",
   "execution_count": 5,
   "id": "f8d49e31",
   "metadata": {},
   "outputs": [
    {
     "data": {
      "text/html": [
       "<div>\n",
       "<style scoped>\n",
       "    .dataframe tbody tr th:only-of-type {\n",
       "        vertical-align: middle;\n",
       "    }\n",
       "\n",
       "    .dataframe tbody tr th {\n",
       "        vertical-align: top;\n",
       "    }\n",
       "\n",
       "    .dataframe thead th {\n",
       "        text-align: right;\n",
       "    }\n",
       "</style>\n",
       "<table border=\"1\" class=\"dataframe\">\n",
       "  <thead>\n",
       "    <tr style=\"text-align: right;\">\n",
       "      <th></th>\n",
       "      <th>id</th>\n",
       "      <th>airport_ref</th>\n",
       "      <th>airport_ident</th>\n",
       "      <th>length_ft</th>\n",
       "      <th>width_ft</th>\n",
       "      <th>surface</th>\n",
       "      <th>lighted</th>\n",
       "      <th>closed</th>\n",
       "      <th>le_ident</th>\n",
       "      <th>le_latitude_deg</th>\n",
       "      <th>le_longitude_deg</th>\n",
       "      <th>le_elevation_ft</th>\n",
       "      <th>le_heading_degT</th>\n",
       "      <th>le_displaced_threshold_ft</th>\n",
       "      <th>he_ident</th>\n",
       "      <th>he_latitude_deg</th>\n",
       "      <th>he_longitude_deg</th>\n",
       "      <th>he_elevation_ft</th>\n",
       "      <th>he_heading_degT</th>\n",
       "      <th>he_displaced_threshold_ft</th>\n",
       "    </tr>\n",
       "  </thead>\n",
       "  <tbody>\n",
       "    <tr>\n",
       "      <th>0</th>\n",
       "      <td>269408</td>\n",
       "      <td>6523</td>\n",
       "      <td>00A</td>\n",
       "      <td>80.0</td>\n",
       "      <td>80.0</td>\n",
       "      <td>ASPH-G</td>\n",
       "      <td>1</td>\n",
       "      <td>0</td>\n",
       "      <td>H1</td>\n",
       "      <td>NaN</td>\n",
       "      <td>NaN</td>\n",
       "      <td>NaN</td>\n",
       "      <td>NaN</td>\n",
       "      <td>NaN</td>\n",
       "      <td>NaN</td>\n",
       "      <td>NaN</td>\n",
       "      <td>NaN</td>\n",
       "      <td>NaN</td>\n",
       "      <td>NaN</td>\n",
       "      <td>NaN</td>\n",
       "    </tr>\n",
       "    <tr>\n",
       "      <th>1</th>\n",
       "      <td>255155</td>\n",
       "      <td>6524</td>\n",
       "      <td>00AK</td>\n",
       "      <td>2500.0</td>\n",
       "      <td>70.0</td>\n",
       "      <td>GRVL</td>\n",
       "      <td>0</td>\n",
       "      <td>0</td>\n",
       "      <td>N</td>\n",
       "      <td>NaN</td>\n",
       "      <td>NaN</td>\n",
       "      <td>NaN</td>\n",
       "      <td>NaN</td>\n",
       "      <td>NaN</td>\n",
       "      <td>S</td>\n",
       "      <td>NaN</td>\n",
       "      <td>NaN</td>\n",
       "      <td>NaN</td>\n",
       "      <td>NaN</td>\n",
       "      <td>NaN</td>\n",
       "    </tr>\n",
       "    <tr>\n",
       "      <th>2</th>\n",
       "      <td>254165</td>\n",
       "      <td>6525</td>\n",
       "      <td>00AL</td>\n",
       "      <td>2300.0</td>\n",
       "      <td>200.0</td>\n",
       "      <td>TURF</td>\n",
       "      <td>0</td>\n",
       "      <td>0</td>\n",
       "      <td>1</td>\n",
       "      <td>NaN</td>\n",
       "      <td>NaN</td>\n",
       "      <td>NaN</td>\n",
       "      <td>NaN</td>\n",
       "      <td>NaN</td>\n",
       "      <td>19</td>\n",
       "      <td>NaN</td>\n",
       "      <td>NaN</td>\n",
       "      <td>NaN</td>\n",
       "      <td>NaN</td>\n",
       "      <td>NaN</td>\n",
       "    </tr>\n",
       "    <tr>\n",
       "      <th>3</th>\n",
       "      <td>270932</td>\n",
       "      <td>6526</td>\n",
       "      <td>00AR</td>\n",
       "      <td>40.0</td>\n",
       "      <td>40.0</td>\n",
       "      <td>GRASS</td>\n",
       "      <td>0</td>\n",
       "      <td>0</td>\n",
       "      <td>H1</td>\n",
       "      <td>NaN</td>\n",
       "      <td>NaN</td>\n",
       "      <td>NaN</td>\n",
       "      <td>NaN</td>\n",
       "      <td>NaN</td>\n",
       "      <td>H1</td>\n",
       "      <td>NaN</td>\n",
       "      <td>NaN</td>\n",
       "      <td>NaN</td>\n",
       "      <td>NaN</td>\n",
       "      <td>NaN</td>\n",
       "    </tr>\n",
       "    <tr>\n",
       "      <th>4</th>\n",
       "      <td>322128</td>\n",
       "      <td>322127</td>\n",
       "      <td>00AS</td>\n",
       "      <td>1450.0</td>\n",
       "      <td>60.0</td>\n",
       "      <td>Turf</td>\n",
       "      <td>0</td>\n",
       "      <td>0</td>\n",
       "      <td>1</td>\n",
       "      <td>NaN</td>\n",
       "      <td>NaN</td>\n",
       "      <td>NaN</td>\n",
       "      <td>NaN</td>\n",
       "      <td>NaN</td>\n",
       "      <td>19</td>\n",
       "      <td>NaN</td>\n",
       "      <td>NaN</td>\n",
       "      <td>NaN</td>\n",
       "      <td>NaN</td>\n",
       "      <td>NaN</td>\n",
       "    </tr>\n",
       "  </tbody>\n",
       "</table>\n",
       "</div>"
      ],
      "text/plain": [
       "       id  airport_ref airport_ident  length_ft  width_ft surface  lighted  \\\n",
       "0  269408         6523           00A       80.0      80.0  ASPH-G        1   \n",
       "1  255155         6524          00AK     2500.0      70.0    GRVL        0   \n",
       "2  254165         6525          00AL     2300.0     200.0    TURF        0   \n",
       "3  270932         6526          00AR       40.0      40.0   GRASS        0   \n",
       "4  322128       322127          00AS     1450.0      60.0    Turf        0   \n",
       "\n",
       "   closed le_ident  le_latitude_deg  le_longitude_deg  le_elevation_ft  \\\n",
       "0       0       H1              NaN               NaN              NaN   \n",
       "1       0        N              NaN               NaN              NaN   \n",
       "2       0        1              NaN               NaN              NaN   \n",
       "3       0       H1              NaN               NaN              NaN   \n",
       "4       0        1              NaN               NaN              NaN   \n",
       "\n",
       "   le_heading_degT  le_displaced_threshold_ft he_ident  he_latitude_deg  \\\n",
       "0              NaN                        NaN      NaN              NaN   \n",
       "1              NaN                        NaN        S              NaN   \n",
       "2              NaN                        NaN       19              NaN   \n",
       "3              NaN                        NaN       H1              NaN   \n",
       "4              NaN                        NaN       19              NaN   \n",
       "\n",
       "   he_longitude_deg  he_elevation_ft  he_heading_degT  \\\n",
       "0               NaN              NaN              NaN   \n",
       "1               NaN              NaN              NaN   \n",
       "2               NaN              NaN              NaN   \n",
       "3               NaN              NaN              NaN   \n",
       "4               NaN              NaN              NaN   \n",
       "\n",
       "   he_displaced_threshold_ft  \n",
       "0                        NaN  \n",
       "1                        NaN  \n",
       "2                        NaN  \n",
       "3                        NaN  \n",
       "4                        NaN  "
      ]
     },
     "execution_count": 5,
     "metadata": {},
     "output_type": "execute_result"
    }
   ],
   "source": [
    "Runways.head(5)"
   ]
  },
  {
   "cell_type": "code",
   "execution_count": 6,
   "id": "f2b34818",
   "metadata": {},
   "outputs": [],
   "source": [
    "Runway1=Runways.drop(['length_ft','width_ft','le_ident','airport_ident','airport_ref','surface','le_latitude_deg','le_longitude_deg','le_elevation_ft','le_heading_degT','le_displaced_threshold_ft','he_ident','he_latitude_deg','he_longitude_deg','he_elevation_ft','he_heading_degT','he_displaced_threshold_ft'],axis=1)"
   ]
  },
  {
   "cell_type": "code",
   "execution_count": 7,
   "id": "f3a70b3e",
   "metadata": {},
   "outputs": [
    {
     "data": {
      "text/plain": [
       "id         0\n",
       "lighted    0\n",
       "closed     0\n",
       "dtype: int64"
      ]
     },
     "execution_count": 7,
     "metadata": {},
     "output_type": "execute_result"
    }
   ],
   "source": [
    "Runway1.isnull().sum()"
   ]
  },
  {
   "cell_type": "code",
   "execution_count": 8,
   "id": "22c5b3e7",
   "metadata": {},
   "outputs": [
    {
     "data": {
      "text/plain": [
       "id             0\n",
       "Airline        0\n",
       "Flight         0\n",
       "AirportFrom    0\n",
       "AirportTo      0\n",
       "DayOfWeek      0\n",
       "Time           0\n",
       "Length         0\n",
       "Delay          0\n",
       "dtype: int64"
      ]
     },
     "execution_count": 8,
     "metadata": {},
     "output_type": "execute_result"
    }
   ],
   "source": [
    "Airlines.isnull().sum()"
   ]
  },
  {
   "cell_type": "code",
   "execution_count": 9,
   "id": "e3d37ece",
   "metadata": {},
   "outputs": [],
   "source": [
    "df = pd.merge(Airlines,Runway1,on =\"id\",how = \"outer\")"
   ]
  },
  {
   "cell_type": "code",
   "execution_count": 10,
   "id": "df3fc900",
   "metadata": {},
   "outputs": [],
   "source": [
    "# Delete id column\n",
    "df = df.drop(columns = ['id'],axis =1)"
   ]
  },
  {
   "cell_type": "markdown",
   "id": "d9ed1add",
   "metadata": {},
   "source": [
    "### Data Analysis"
   ]
  },
  {
   "cell_type": "code",
   "execution_count": null,
   "id": "73993b0f",
   "metadata": {},
   "outputs": [],
   "source": []
  },
  {
   "cell_type": "code",
   "execution_count": 11,
   "id": "404a7e2d",
   "metadata": {},
   "outputs": [
    {
     "name": "stdout",
     "output_type": "stream",
     "text": [
      "Index(['Flight', 'DayOfWeek', 'Time', 'Length', 'Delay', 'lighted', 'closed'], dtype='object') \n",
      "\n",
      "Index(['Airline', 'AirportFrom', 'AirportTo'], dtype='object') \n",
      "\n"
     ]
    }
   ],
   "source": [
    "# Bring only the nuemric columns\n",
    "numerics = ['int16', 'int32', 'int64', 'float16', 'float32', 'float64']\n",
    "numeric_column_names = df.select_dtypes(include=numerics).columns\n",
    "print(numeric_column_names, '\\n')\n",
    "\n",
    "# Bring only the object columns (strings)\n",
    "objects = 'object'\n",
    "object_column_names = df.select_dtypes(include=objects).columns\n",
    "print(object_column_names, '\\n')"
   ]
  },
  {
   "cell_type": "code",
   "execution_count": null,
   "id": "57b89fdd",
   "metadata": {},
   "outputs": [],
   "source": []
  },
  {
   "cell_type": "code",
   "execution_count": 12,
   "id": "f33604ef",
   "metadata": {
    "scrolled": true
   },
   "outputs": [
    {
     "data": {
      "text/plain": [
       "Airline          1587\n",
       "Flight           1587\n",
       "AirportFrom      1587\n",
       "AirportTo        1587\n",
       "DayOfWeek        1587\n",
       "Time             1587\n",
       "Length           1587\n",
       "Delay            1587\n",
       "lighted        476166\n",
       "closed         476166\n",
       "dtype: int64"
      ]
     },
     "execution_count": 12,
     "metadata": {},
     "output_type": "execute_result"
    }
   ],
   "source": [
    "df.isnull().sum()"
   ]
  },
  {
   "cell_type": "code",
   "execution_count": 13,
   "id": "b4e94dda",
   "metadata": {},
   "outputs": [],
   "source": [
    "df = df.dropna().reset_index(drop = True)"
   ]
  },
  {
   "cell_type": "code",
   "execution_count": 14,
   "id": "85111c99",
   "metadata": {},
   "outputs": [
    {
     "data": {
      "text/plain": [
       "Airline        0\n",
       "Flight         0\n",
       "AirportFrom    0\n",
       "AirportTo      0\n",
       "DayOfWeek      0\n",
       "Time           0\n",
       "Length         0\n",
       "Delay          0\n",
       "lighted        0\n",
       "closed         0\n",
       "dtype: int64"
      ]
     },
     "execution_count": 14,
     "metadata": {},
     "output_type": "execute_result"
    }
   ],
   "source": [
    "df.isnull().sum()"
   ]
  },
  {
   "cell_type": "code",
   "execution_count": 15,
   "id": "bda2fe65",
   "metadata": {},
   "outputs": [
    {
     "name": "stdout",
     "output_type": "stream",
     "text": [
      "<class 'pandas.core.frame.DataFrame'>\n",
      "RangeIndex: 42390 entries, 0 to 42389\n",
      "Data columns (total 10 columns):\n",
      " #   Column       Non-Null Count  Dtype  \n",
      "---  ------       --------------  -----  \n",
      " 0   Airline      42390 non-null  object \n",
      " 1   Flight       42390 non-null  float64\n",
      " 2   AirportFrom  42390 non-null  object \n",
      " 3   AirportTo    42390 non-null  object \n",
      " 4   DayOfWeek    42390 non-null  float64\n",
      " 5   Time         42390 non-null  float64\n",
      " 6   Length       42390 non-null  float64\n",
      " 7   Delay        42390 non-null  float64\n",
      " 8   lighted      42390 non-null  float64\n",
      " 9   closed       42390 non-null  float64\n",
      "dtypes: float64(7), object(3)\n",
      "memory usage: 3.2+ MB\n"
     ]
    }
   ],
   "source": [
    "df.info()"
   ]
  },
  {
   "cell_type": "code",
   "execution_count": 16,
   "id": "94dae24f",
   "metadata": {},
   "outputs": [
    {
     "data": {
      "text/plain": [
       "Airline          17\n",
       "Flight         6291\n",
       "AirportFrom     285\n",
       "AirportTo       288\n",
       "DayOfWeek         6\n",
       "Time           1074\n",
       "Length          409\n",
       "Delay             2\n",
       "lighted           2\n",
       "closed            2\n",
       "dtype: int64"
      ]
     },
     "execution_count": 16,
     "metadata": {},
     "output_type": "execute_result"
    }
   ],
   "source": [
    "df.nunique()"
   ]
  },
  {
   "cell_type": "code",
   "execution_count": 17,
   "id": "d7cf4925",
   "metadata": {},
   "outputs": [
    {
     "name": "stdout",
     "output_type": "stream",
     "text": [
      "<class 'pandas.core.frame.DataFrame'>\n",
      "RangeIndex: 42390 entries, 0 to 42389\n",
      "Data columns (total 10 columns):\n",
      " #   Column       Non-Null Count  Dtype  \n",
      "---  ------       --------------  -----  \n",
      " 0   Airline      42390 non-null  object \n",
      " 1   Flight       42390 non-null  float64\n",
      " 2   AirportFrom  42390 non-null  object \n",
      " 3   AirportTo    42390 non-null  object \n",
      " 4   DayOfWeek    42390 non-null  float64\n",
      " 5   Time         42390 non-null  float64\n",
      " 6   Length       42390 non-null  float64\n",
      " 7   Delay        42390 non-null  float64\n",
      " 8   lighted      42390 non-null  float64\n",
      " 9   closed       42390 non-null  float64\n",
      "dtypes: float64(7), object(3)\n",
      "memory usage: 3.2+ MB\n"
     ]
    }
   ],
   "source": [
    "df.info()"
   ]
  },
  {
   "cell_type": "code",
   "execution_count": 18,
   "id": "b31183cd",
   "metadata": {},
   "outputs": [
    {
     "name": "stdout",
     "output_type": "stream",
     "text": [
      "Index(['Flight', 'DayOfWeek', 'Time', 'Length', 'Delay', 'lighted', 'closed'], dtype='object') \n",
      "\n",
      "Index(['Airline', 'AirportFrom', 'AirportTo'], dtype='object') \n",
      "\n"
     ]
    }
   ],
   "source": [
    "numerics = ['int16', 'int32', 'int64', 'float16', 'float32', 'float64']\n",
    "numeric_column_names = df.select_dtypes(include=numerics).columns\n",
    "print(numeric_column_names, '\\n')\n",
    "\n",
    "# Bring only the object columns (strings)\n",
    "objects = 'object'\n",
    "object_column_names = df.select_dtypes(include=object).columns\n",
    "print(object_column_names, '\\n')"
   ]
  },
  {
   "cell_type": "code",
   "execution_count": 19,
   "id": "dac0f80f",
   "metadata": {},
   "outputs": [],
   "source": [
    "import seaborn as sns"
   ]
  },
  {
   "cell_type": "code",
   "execution_count": 20,
   "id": "abe6473f",
   "metadata": {},
   "outputs": [
    {
     "data": {
      "image/png": "[encoded data removed]",
      "text/plain": [
       "<Figure size 432x288 with 1 Axes>"
      ]
     },
     "metadata": {
      "needs_background": "light"
     },
     "output_type": "display_data"
    },
    {
     "data": {
      "image/png": "[encoded data removed]",
      "text/plain": [
       "<Figure size 432x288 with 1 Axes>"
      ]
     },
     "metadata": {
      "needs_background": "light"
     },
     "output_type": "display_data"
    },
    {
     "data": {
      "image/png": "[encoded data removed]",
      "text/plain": [
       "<Figure size 432x288 with 1 Axes>"
      ]
     },
     "metadata": {
      "needs_background": "light"
     },
     "output_type": "display_data"
    }
   ],
   "source": [
    "for column in object_column_names:\n",
    "    value_counts_column =  df[column].value_counts()\n",
    "    if value_counts_column.shape[0] > 20:\n",
    "        value_counts_column = value_counts_column.sort_values(ascending = False)\n",
    "        value_counts_column = value_counts_column[:20]\n",
    "    ax = sns.barplot(y=value_counts_column.values, x=value_counts_column.index)\n",
    "    ax = ax.set_xticklabels(ax.get_xticklabels(),rotation = 30)\n",
    "    plt.show()"
   ]
  },
  {
   "cell_type": "code",
   "execution_count": 21,
   "id": "05d95d55",
   "metadata": {},
   "outputs": [
    {
     "data": {
      "image/png": "[encoded data removed]",
      "text/plain": [
       "<Figure size 432x288 with 1 Axes>"
      ]
     },
     "metadata": {
      "needs_background": "light"
     },
     "output_type": "display_data"
    },
    {
     "data": {
      "image/png": "[encoded data removed]",
      "text/plain": [
       "<Figure size 432x288 with 1 Axes>"
      ]
     },
     "metadata": {
      "needs_background": "light"
     },
     "output_type": "display_data"
    },
    {
     "data": {
      "image/png": "[encoded data removed]",
      "text/plain": [
       "<Figure size 432x288 with 1 Axes>"
      ]
     },
     "metadata": {
      "needs_background": "light"
     },
     "output_type": "display_data"
    }
   ],
   "source": [
    "for column in object_column_names:\n",
    "    value_counts_column =  df[column].value_counts()\n",
    "    if value_counts_column.shape[0] > 20:\n",
    "        value_counts_column = value_counts_column.sort_values(ascending = False)\n",
    "        value_counts_column = value_counts_column[:20]\n",
    "        df_aux = df[df[column].isin(value_counts_column[:20].index)]\n",
    "        ax = sns.histplot(data=df_aux, x=column, hue='Delay',  multiple=\"dodge\", shrink=.8)\n",
    "        plt.xticks(rotation=45)\n",
    "        plt.show()\n",
    "    else:\n",
    "        ax = sns.histplot(data=df, x=column, hue='Delay',  multiple=\"dodge\", shrink=.8)\n",
    "        plt.show()"
   ]
  },
  {
   "cell_type": "code",
   "execution_count": 22,
   "id": "9c45ef60",
   "metadata": {},
   "outputs": [
    {
     "data": {
      "image/png": "[encoded data removed]",
      "text/plain": [
       "<Figure size 432x288 with 1 Axes>"
      ]
     },
     "metadata": {
      "needs_background": "light"
     },
     "output_type": "display_data"
    },
    {
     "data": {
      "image/png": "[encoded data removed]",
      "text/plain": [
       "<Figure size 432x288 with 1 Axes>"
      ]
     },
     "metadata": {
      "needs_background": "light"
     },
     "output_type": "display_data"
    },
    {
     "data": {
      "image/png": "[encoded data removed]",
      "text/plain": [
       "<Figure size 432x288 with 1 Axes>"
      ]
     },
     "metadata": {
      "needs_background": "light"
     },
     "output_type": "display_data"
    },
    {
     "data": {
      "image/png": "[encoded data removed]",
      "text/plain": [
       "<Figure size 432x288 with 1 Axes>"
      ]
     },
     "metadata": {
      "needs_background": "light"
     },
     "output_type": "display_data"
    },
    {
     "data": {
      "image/png": "[encoded data removed]",
      "text/plain": [
       "<Figure size 432x288 with 1 Axes>"
      ]
     },
     "metadata": {
      "needs_background": "light"
     },
     "output_type": "display_data"
    },
    {
     "data": {
      "image/png": "[encoded data removed]",
      "text/plain": [
       "<Figure size 432x288 with 1 Axes>"
      ]
     },
     "metadata": {
      "needs_background": "light"
     },
     "output_type": "display_data"
    },
    {
     "data": {
      "image/png": "[encoded data removed]",
      "text/plain": [
       "<Figure size 432x288 with 1 Axes>"
      ]
     },
     "metadata": {
      "needs_background": "light"
     },
     "output_type": "display_data"
    }
   ],
   "source": [
    "for column in numeric_column_names:\n",
    "    ax = sns.histplot(data=df, x=column, hue='Delay', kde=True)\n",
    "    plt.show()\n",
    "    "
   ]
  },
  {
   "cell_type": "code",
   "execution_count": 23,
   "id": "10d1663c",
   "metadata": {},
   "outputs": [
    {
     "data": {
      "text/html": [
       "<div>\n",
       "<style scoped>\n",
       "    .dataframe tbody tr th:only-of-type {\n",
       "        vertical-align: middle;\n",
       "    }\n",
       "\n",
       "    .dataframe tbody tr th {\n",
       "        vertical-align: top;\n",
       "    }\n",
       "\n",
       "    .dataframe thead th {\n",
       "        text-align: right;\n",
       "    }\n",
       "</style>\n",
       "<table border=\"1\" class=\"dataframe\">\n",
       "  <thead>\n",
       "    <tr style=\"text-align: right;\">\n",
       "      <th></th>\n",
       "      <th>Flight</th>\n",
       "      <th>DayOfWeek</th>\n",
       "      <th>Time</th>\n",
       "      <th>Length</th>\n",
       "      <th>Delay</th>\n",
       "      <th>lighted</th>\n",
       "      <th>closed</th>\n",
       "    </tr>\n",
       "  </thead>\n",
       "  <tbody>\n",
       "    <tr>\n",
       "      <th>Flight</th>\n",
       "      <td>1.000000</td>\n",
       "      <td>-0.001914</td>\n",
       "      <td>0.003736</td>\n",
       "      <td>-0.345268</td>\n",
       "      <td>-0.079681</td>\n",
       "      <td>0.000373</td>\n",
       "      <td>0.000316</td>\n",
       "    </tr>\n",
       "    <tr>\n",
       "      <th>DayOfWeek</th>\n",
       "      <td>-0.001914</td>\n",
       "      <td>1.000000</td>\n",
       "      <td>-0.191196</td>\n",
       "      <td>0.031047</td>\n",
       "      <td>0.017781</td>\n",
       "      <td>-0.273645</td>\n",
       "      <td>-0.046463</td>\n",
       "    </tr>\n",
       "    <tr>\n",
       "      <th>Time</th>\n",
       "      <td>0.003736</td>\n",
       "      <td>-0.191196</td>\n",
       "      <td>1.000000</td>\n",
       "      <td>-0.030031</td>\n",
       "      <td>0.145692</td>\n",
       "      <td>-0.022186</td>\n",
       "      <td>-0.027389</td>\n",
       "    </tr>\n",
       "    <tr>\n",
       "      <th>Length</th>\n",
       "      <td>-0.345268</td>\n",
       "      <td>0.031047</td>\n",
       "      <td>-0.030031</td>\n",
       "      <td>1.000000</td>\n",
       "      <td>0.077339</td>\n",
       "      <td>-0.004183</td>\n",
       "      <td>-0.002501</td>\n",
       "    </tr>\n",
       "    <tr>\n",
       "      <th>Delay</th>\n",
       "      <td>-0.079681</td>\n",
       "      <td>0.017781</td>\n",
       "      <td>0.145692</td>\n",
       "      <td>0.077339</td>\n",
       "      <td>1.000000</td>\n",
       "      <td>-0.053746</td>\n",
       "      <td>-0.019155</td>\n",
       "    </tr>\n",
       "    <tr>\n",
       "      <th>lighted</th>\n",
       "      <td>0.000373</td>\n",
       "      <td>-0.273645</td>\n",
       "      <td>-0.022186</td>\n",
       "      <td>-0.004183</td>\n",
       "      <td>-0.053746</td>\n",
       "      <td>1.000000</td>\n",
       "      <td>-0.034246</td>\n",
       "    </tr>\n",
       "    <tr>\n",
       "      <th>closed</th>\n",
       "      <td>0.000316</td>\n",
       "      <td>-0.046463</td>\n",
       "      <td>-0.027389</td>\n",
       "      <td>-0.002501</td>\n",
       "      <td>-0.019155</td>\n",
       "      <td>-0.034246</td>\n",
       "      <td>1.000000</td>\n",
       "    </tr>\n",
       "  </tbody>\n",
       "</table>\n",
       "</div>"
      ],
      "text/plain": [
       "             Flight  DayOfWeek      Time    Length     Delay   lighted  \\\n",
       "Flight     1.000000  -0.001914  0.003736 -0.345268 -0.079681  0.000373   \n",
       "DayOfWeek -0.001914   1.000000 -0.191196  0.031047  0.017781 -0.273645   \n",
       "Time       0.003736  -0.191196  1.000000 -0.030031  0.145692 -0.022186   \n",
       "Length    -0.345268   0.031047 -0.030031  1.000000  0.077339 -0.004183   \n",
       "Delay     -0.079681   0.017781  0.145692  0.077339  1.000000 -0.053746   \n",
       "lighted    0.000373  -0.273645 -0.022186 -0.004183 -0.053746  1.000000   \n",
       "closed     0.000316  -0.046463 -0.027389 -0.002501 -0.019155 -0.034246   \n",
       "\n",
       "             closed  \n",
       "Flight     0.000316  \n",
       "DayOfWeek -0.046463  \n",
       "Time      -0.027389  \n",
       "Length    -0.002501  \n",
       "Delay     -0.019155  \n",
       "lighted   -0.034246  \n",
       "closed     1.000000  "
      ]
     },
     "execution_count": 23,
     "metadata": {},
     "output_type": "execute_result"
    }
   ],
   "source": [
    "df.corr()"
   ]
  },
  {
   "cell_type": "code",
   "execution_count": 24,
   "id": "22db07f4",
   "metadata": {},
   "outputs": [
    {
     "data": {
      "image/png": "[encoded data removed]",
      "text/plain": [
       "<Figure size 1440x1080 with 2 Axes>"
      ]
     },
     "metadata": {
      "needs_background": "light"
     },
     "output_type": "display_data"
    }
   ],
   "source": [
    "# Correlation matrix graph of the data set\n",
    "f, ax = plt.subplots(figsize= [20,15])\n",
    "sns.heatmap(df.corr(), annot=True, fmt=\".3f\", ax=ax, cmap = \"magma\" )\n",
    "ax.set_title(\"Correlation Matrix\", fontsize=20)\n",
    "plt.show()"
   ]
  },
  {
   "cell_type": "code",
   "execution_count": 25,
   "id": "9940d8c5",
   "metadata": {},
   "outputs": [],
   "source": [
    "feature=df.drop(columns=['Delay','AirportTo', 'AirportFrom'])\n",
    "target = df['Delay'] "
   ]
  },
  {
   "cell_type": "markdown",
   "id": "aae00696",
   "metadata": {},
   "source": [
    "### Classification"
   ]
  },
  {
   "cell_type": "markdown",
   "id": "7fa4d4cd",
   "metadata": {},
   "source": [
    "Here we will try to process the categorical columns with the function OrdinalEncoder \n",
    "that just creates a value for each category in the columns, so we don't change the number\n",
    "of columns, just transform them in a number, so the model can process."
   ]
  },
  {
   "cell_type": "code",
   "execution_count": 26,
   "id": "f23ccaee",
   "metadata": {},
   "outputs": [],
   "source": [
    "# Divide in train and test\n",
    "from sklearn.model_selection import train_test_split\n",
    "X_train, X_test, y_train, y_test = train_test_split(feature , target, \n",
    "                                                    shuffle = True, \n",
    "                                                    test_size=0.2, \n",
    "                                                    random_state=1)"
   ]
  },
  {
   "cell_type": "code",
   "execution_count": 27,
   "id": "b4559e18",
   "metadata": {},
   "outputs": [],
   "source": [
    "from sklearn.preprocessing import OrdinalEncoder\n",
    "\n",
    "# Function to create the new columns with Oridinal Encoding\n",
    "def ordinal_encoding(X_train, X_test, columns):\n",
    "    \n",
    "    # Create the encoder\n",
    "    ord_enc = OrdinalEncoder(handle_unknown = 'use_encoded_value', unknown_value=-1)\n",
    "    ord_enc.fit(X_train[columns])\n",
    "\n",
    "    # Transfrom both train and test datasets (separately)\n",
    "    new_columns_train = ord_enc.transform(X_train[columns])\n",
    "    new_columns_test = ord_enc.transform(X_test[columns])\n",
    "\n",
    "    # Creating the name of the columns, being the same name as the original but with a _num at the end\n",
    "    column_num_names = columns + '_num'\n",
    "\n",
    "    # Creating a dataframe for the new columns\n",
    "    new_columns_train = pd.DataFrame(new_columns_train, columns = column_num_names, index = X_train.index)\n",
    "    new_columns_test = pd.DataFrame(new_columns_test, columns = column_num_names, index = X_test.index)\n",
    "\n",
    "    # Concating the new columns to the original datasets\n",
    "    X_train = pd.concat([X_train, new_columns_train], axis=1)\n",
    "    X_test = pd.concat([X_test, new_columns_test], axis=1)\n",
    "    \n",
    "    return X_train, X_test"
   ]
  },
  {
   "cell_type": "code",
   "execution_count": 28,
   "id": "7871c005",
   "metadata": {},
   "outputs": [],
   "source": [
    "# Delete the columns AirportTo and AirportFrom, because we're going to use only the columns Airline for Categorical column\n",
    "object_column_names = object_column_names.drop(['AirportTo', 'AirportFrom'],errors = 'ignore')\n",
    "X_train, X_test = ordinal_encoding(X_train, X_test, object_column_names)\n",
    "\n",
    "# Drop the columns we will not use\n",
    "X_train = X_train.drop(columns = object_column_names)\n",
    "X_test = X_test.drop(columns = object_column_names)"
   ]
  },
  {
   "cell_type": "code",
   "execution_count": 29,
   "id": "781ff791",
   "metadata": {},
   "outputs": [],
   "source": [
    "# Function to evaluate easily multiple models\n",
    "def evaluate_model(model, x_test, y_test):\n",
    "\n",
    "    y_pred = model.predict(x_test)\n",
    "\n",
    "    # Calculate accuracy, precision, recall, f1-score, and kappa score\n",
    "    acc = metrics.accuracy_score(y_test, y_pred)\n",
    "    prec = metrics.precision_score(y_test, y_pred)\n",
    "    rec = metrics.recall_score(y_test, y_pred)\n",
    "    f1 = metrics.f1_score(y_test, y_pred)\n",
    "    kappa = metrics.cohen_kappa_score(y_test, y_pred)\n",
    "\n",
    "    # Display confussion matrix\n",
    "    cm = metrics.confusion_matrix(y_test, y_pred)\n",
    "\n",
    "    return {'acc': acc, 'prec': prec, 'rec': rec, 'f1': f1, 'kappa': kappa, \n",
    "            'cm': cm}\n",
    "\n",
    "# Show results from evaluate_model\n",
    "def print_metrics(eval):\n",
    "    # Print result\n",
    "    print('Accuracy:', (eval['acc'] * 100).round(2), '%')\n",
    "    print('Precision:', (eval['prec']* 100).round(2), '%')\n",
    "    print('Recall:', (eval['rec']* 100).round(2), '%')\n",
    "    print('F1 Score:', (eval['f1'] * 100).round(2), '%')\n",
    "    print('Cohens Kappa Score:', (eval['kappa'] * 100).round(2), '%')\n",
    "    print('Confusion Matrix:\\n', eval['cm'])"
   ]
  },
  {
   "cell_type": "code",
   "execution_count": 30,
   "id": "d87092ea",
   "metadata": {},
   "outputs": [],
   "source": [
    "# Show results from cross_validation()\n",
    "def print_results(results):\n",
    "    mean = results['test_score'].mean()\n",
    "    std = results['test_score'].std()\n",
    "    print('Accuracy mean %.2f' % (mean * 100))\n",
    "    print('Accuracy interval %.2f %.2f' % ((mean - 2 * std) * 100, (mean + 2 *std) * 100))"
   ]
  },
  {
   "cell_type": "code",
   "execution_count": null,
   "id": "f3a5ac9b",
   "metadata": {},
   "outputs": [],
   "source": []
  },
  {
   "cell_type": "code",
   "execution_count": 31,
   "id": "00279947",
   "metadata": {},
   "outputs": [],
   "source": [
    "from sklearn.preprocessing import StandardScaler\n",
    "\n",
    "# Function to scale the dataset\n",
    "def scaling(X_train, X_test):\n",
    "    scaler_feature = StandardScaler()\n",
    "    scaler_feature.fit(X_train)\n",
    "\n",
    "    X_train_scaled = scaler_feature.transform(X_train)\n",
    "    X_test_scaled = scaler_feature.transform(X_test)\n",
    "    return X_train_scaled, X_test_scaled\n",
    "\n",
    "X_train_scaled, X_test_scaled = scaling(X_train, X_test)"
   ]
  },
  {
   "cell_type": "code",
   "execution_count": 32,
   "id": "340203a3",
   "metadata": {},
   "outputs": [],
   "source": [
    "# Function to train and test the models and show the results in a organized way\n",
    "def run_classification(model, X_train, X_test, y_train, y_test):\n",
    "    cv = KFold(n_splits=5, shuffle=True)\n",
    "    results = cross_validate(model, X_train, y_train, cv = cv)\n",
    "\n",
    "    print_results(results)\n",
    "    print('------------------')\n",
    "\n",
    "    # Evaluate Model\n",
    "    model.fit(X_train, y_train)\n",
    "    dtc_eval = evaluate_model(model, X_test, y_test)\n",
    "    print_metrics(dtc_eval)"
   ]
  },
  {
   "cell_type": "markdown",
   "id": "df262004",
   "metadata": {},
   "source": [
    "### Dummy (Baseline)"
   ]
  },
  {
   "cell_type": "code",
   "execution_count": 33,
   "id": "44f5a839",
   "metadata": {},
   "outputs": [
    {
     "name": "stdout",
     "output_type": "stream",
     "text": [
      "Accuracy mean 50.07\n",
      "Accuracy interval 49.36 50.79\n",
      "------------------\n",
      "Accuracy: 49.87 %\n",
      "Precision: 45.4 %\n",
      "Recall: 45.66 %\n",
      "F1 Score: 45.53 %\n",
      "Cohens Kappa Score: -0.9 %\n",
      "Confusion Matrix:\n",
      " [[2452 2136]\n",
      " [2114 1776]]\n"
     ]
    }
   ],
   "source": [
    "from sklearn.dummy import DummyClassifier\n",
    "\n",
    "dummy_stratified = DummyClassifier(strategy='stratified')\n",
    "run_classification(dummy_stratified, X_train_scaled, X_test_scaled, y_train, y_test)"
   ]
  },
  {
   "cell_type": "markdown",
   "id": "5620c20e",
   "metadata": {},
   "source": [
    "### Decision Tree Classifier"
   ]
  },
  {
   "cell_type": "code",
   "execution_count": 34,
   "id": "dec75fb7",
   "metadata": {},
   "outputs": [
    {
     "name": "stdout",
     "output_type": "stream",
     "text": [
      "Accuracy mean 59.14\n",
      "Accuracy interval 58.16 60.11\n",
      "------------------\n",
      "Accuracy: 60.83 %\n",
      "Precision: 57.01 %\n",
      "Recall: 59.51 %\n",
      "F1 Score: 58.23 %\n",
      "Cohens Kappa Score: 21.38 %\n",
      "Confusion Matrix:\n",
      " [[2842 1746]\n",
      " [1575 2315]]\n"
     ]
    }
   ],
   "source": [
    "from sklearn.tree import DecisionTreeClassifier\n",
    "\n",
    "descision_tree = DecisionTreeClassifier()\n",
    "run_classification(descision_tree, X_train_scaled, X_test_scaled, y_train, y_test)"
   ]
  },
  {
   "cell_type": "markdown",
   "id": "2e796aca",
   "metadata": {},
   "source": [
    "###  Gaussian"
   ]
  },
  {
   "cell_type": "code",
   "execution_count": 35,
   "id": "f17efb19",
   "metadata": {},
   "outputs": [
    {
     "name": "stdout",
     "output_type": "stream",
     "text": [
      "Accuracy mean 58.61\n",
      "Accuracy interval 57.28 59.95\n",
      "------------------\n",
      "Accuracy: 58.93 %\n",
      "Precision: 54.57 %\n",
      "Recall: 62.57 %\n",
      "F1 Score: 58.3 %\n",
      "Cohens Kappa Score: 18.21 %\n",
      "Confusion Matrix:\n",
      " [[2562 2026]\n",
      " [1456 2434]]\n"
     ]
    }
   ],
   "source": [
    "from sklearn.naive_bayes import GaussianNB\n",
    "\n",
    "gaussian = GaussianNB()\n",
    "run_classification(gaussian, X_train_scaled, X_test_scaled, y_train, y_test)"
   ]
  },
  {
   "cell_type": "markdown",
   "id": "ed25d024",
   "metadata": {},
   "source": [
    "### K Neighbors"
   ]
  },
  {
   "cell_type": "code",
   "execution_count": 36,
   "id": "109922d0",
   "metadata": {},
   "outputs": [
    {
     "name": "stdout",
     "output_type": "stream",
     "text": [
      "Accuracy mean 61.13\n",
      "Accuracy interval 60.05 62.20\n",
      "------------------\n",
      "Accuracy: 61.89 %\n",
      "Precision: 58.74 %\n",
      "Recall: 56.92 %\n",
      "F1 Score: 57.81 %\n",
      "Cohens Kappa Score: 23.08 %\n",
      "Confusion Matrix:\n",
      " [[3033 1555]\n",
      " [1676 2214]]\n"
     ]
    }
   ],
   "source": [
    "from sklearn.neighbors import KNeighborsClassifier\n",
    "\n",
    "k_neighbors = KNeighborsClassifier()\n",
    "run_classification(k_neighbors, X_train_scaled, X_test_scaled, y_train, y_test)"
   ]
  },
  {
   "cell_type": "code",
   "execution_count": 37,
   "id": "ecb6dbde",
   "metadata": {},
   "outputs": [],
   "source": [
    "### Well, based on our results, all the models we tested had a better result \n",
    "###than the baseline, what's good, but the difference is only 10% on avarage, so is not that impressive"
   ]
  },
  {
   "cell_type": "code",
   "execution_count": 38,
   "id": "808e231e",
   "metadata": {},
   "outputs": [],
   "source": [
    "# Delete this variables to clean space\n",
    "del X_test_scaled\n",
    "del X_train_scaled"
   ]
  },
  {
   "cell_type": "markdown",
   "id": "5cbfcc24",
   "metadata": {},
   "source": [
    "### Classification Using One Hot Encoding"
   ]
  },
  {
   "cell_type": "code",
   "execution_count": 39,
   "id": "e3031780",
   "metadata": {},
   "outputs": [],
   "source": [
    "# Divide in train and test\n",
    "from sklearn.model_selection import train_test_split\n",
    "X_train, X_test, y_train, y_test = train_test_split(feature , target, \n",
    "                                                    shuffle = True, \n",
    "                                                    test_size=0.2, \n",
    "                                                    random_state=1)"
   ]
  },
  {
   "cell_type": "code",
   "execution_count": 40,
   "id": "ec9b7808",
   "metadata": {},
   "outputs": [],
   "source": [
    "from sklearn.preprocessing import OneHotEncoder\n",
    "\n",
    "# Function to create the columns with the one hot encoding and concat with the original datasets\n",
    "def one_hot_encoding(X_train, X_test, columns):\n",
    "    one_hot_enc = OneHotEncoder()\n",
    "    one_hot_enc.fit(X_train[columns])\n",
    "\n",
    "    new_columns_train = one_hot_enc.transform(X_train[columns])\n",
    "    new_columns_test = one_hot_enc.transform(X_test[columns])\n",
    "\n",
    "    # Here we create loop all the columns we have and use them to create new names for each column, \n",
    "    # being a name with the original name of the column concated with the label of the category\n",
    "    all_column_names = np.array([])\n",
    "    for index, column in enumerate(columns):\n",
    "        column_names = column + one_hot_enc.categories_[index]\n",
    "        all_column_names = np.concatenate((all_column_names, column_names), axis=None)\n",
    "\n",
    "    temp = pd.DataFrame(new_columns_train.toarray(), columns=all_column_names, index = X_train.index)\n",
    "    X_train = pd.concat([X_train, temp], axis=1)\n",
    "\n",
    "    temp = pd.DataFrame(new_columns_test.toarray(), columns=all_column_names, index = X_test.index)\n",
    "    X_test = pd.concat([X_test, temp], axis=1)\n",
    "\n",
    "    X_train = X_train.drop(columns=object_column_names)\n",
    "    X_test = X_test.drop(columns=object_column_names)\n",
    "\n",
    "    return X_train, X_test"
   ]
  },
  {
   "cell_type": "code",
   "execution_count": 41,
   "id": "bf40d11b",
   "metadata": {},
   "outputs": [],
   "source": [
    "# Encond the columns\n",
    "X_train, X_test = one_hot_encoding(X_train, X_test, object_column_names)\n",
    "# Scale the features\n",
    "X_train_scaled, X_test_scaled = scaling(X_train, X_test)\n",
    "\n",
    "# Delete the original variables\n",
    "del X_train\n",
    "del X_test"
   ]
  },
  {
   "cell_type": "code",
   "execution_count": 42,
   "id": "bc1c2b76",
   "metadata": {},
   "outputs": [],
   "source": [
    "###The baseline don't change for the new processing, so we don't need to run it again!"
   ]
  },
  {
   "cell_type": "markdown",
   "id": "f650a1b0",
   "metadata": {},
   "source": [
    "### Decision Tree Classifier"
   ]
  },
  {
   "cell_type": "code",
   "execution_count": 43,
   "id": "5544ad94",
   "metadata": {},
   "outputs": [
    {
     "name": "stdout",
     "output_type": "stream",
     "text": [
      "Accuracy mean 59.31\n",
      "Accuracy interval 58.39 60.23\n",
      "------------------\n",
      "Accuracy: 60.2 %\n",
      "Precision: 56.47 %\n",
      "Recall: 57.87 %\n",
      "F1 Score: 57.16 %\n",
      "Cohens Kappa Score: 20.01 %\n",
      "Confusion Matrix:\n",
      " [[2853 1735]\n",
      " [1639 2251]]\n"
     ]
    }
   ],
   "source": [
    "descision_tree = DecisionTreeClassifier()\n",
    "run_classification(descision_tree, X_train_scaled, X_test_scaled, y_train, y_test)"
   ]
  },
  {
   "cell_type": "code",
   "execution_count": 44,
   "id": "25b5883f",
   "metadata": {},
   "outputs": [
    {
     "name": "stdout",
     "output_type": "stream",
     "text": [
      "Accuracy mean 60.73\n",
      "Accuracy interval 59.10 62.36\n",
      "------------------\n",
      "Accuracy: 60.43 %\n",
      "Precision: 55.65 %\n",
      "Recall: 67.74 %\n",
      "F1 Score: 61.1 %\n",
      "Cohens Kappa Score: 21.61 %\n",
      "Confusion Matrix:\n",
      " [[2488 2100]\n",
      " [1255 2635]]\n"
     ]
    }
   ],
   "source": [
    "gaussian = GaussianNB()\n",
    "run_classification(gaussian, X_train_scaled, X_test_scaled, y_train, y_test)"
   ]
  },
  {
   "cell_type": "markdown",
   "id": "6566a1f5",
   "metadata": {},
   "source": [
    " ### Classification without the categorical columns"
   ]
  },
  {
   "cell_type": "code",
   "execution_count": 45,
   "id": "5ebb7332",
   "metadata": {},
   "outputs": [],
   "source": [
    "# Divide in train and test\n",
    "from sklearn.model_selection import train_test_split\n",
    "X_train, X_test, y_train, y_test = train_test_split(feature , target, \n",
    "                                                    shuffle = True, \n",
    "                                                    test_size=0.2, \n",
    "                                                    random_state=1)"
   ]
  },
  {
   "cell_type": "code",
   "execution_count": 46,
   "id": "ee01b81a",
   "metadata": {},
   "outputs": [],
   "source": [
    "# Drop all the categorical columns without any previous processing\n",
    "X_train = X_train.drop(columns = object_column_names)\n",
    "X_test = X_test.drop(columns = object_column_names)\n",
    "\n",
    "X_train_scaled, X_test_scaled = scaling(X_train, X_test)\n",
    "\n",
    "del X_train\n",
    "del X_test"
   ]
  },
  {
   "cell_type": "markdown",
   "id": "0871a1d3",
   "metadata": {},
   "source": [
    "### Decision Tree Classifier"
   ]
  },
  {
   "cell_type": "code",
   "execution_count": 47,
   "id": "f8a987f6",
   "metadata": {},
   "outputs": [
    {
     "name": "stdout",
     "output_type": "stream",
     "text": [
      "Accuracy mean 55.89\n",
      "Accuracy interval 54.58 57.21\n",
      "------------------\n",
      "Accuracy: 56.17 %\n",
      "Precision: 52.15 %\n",
      "Recall: 54.22 %\n",
      "F1 Score: 53.16 %\n",
      "Cohens Kappa Score: 12.0 %\n",
      "Confusion Matrix:\n",
      " [[2653 1935]\n",
      " [1781 2109]]\n"
     ]
    }
   ],
   "source": [
    "descision_tree = DecisionTreeClassifier()\n",
    "run_classification(descision_tree, X_train_scaled, X_test_scaled, y_train, y_test)"
   ]
  },
  {
   "cell_type": "markdown",
   "id": "b14c82e6",
   "metadata": {},
   "source": [
    "### Gaussian"
   ]
  },
  {
   "cell_type": "code",
   "execution_count": 48,
   "id": "7bc58ce4",
   "metadata": {},
   "outputs": [
    {
     "name": "stdout",
     "output_type": "stream",
     "text": [
      "Accuracy mean 58.01\n",
      "Accuracy interval 56.98 59.04\n",
      "------------------\n",
      "Accuracy: 58.43 %\n",
      "Precision: 54.11 %\n",
      "Recall: 61.95 %\n",
      "F1 Score: 57.77 %\n",
      "Cohens Kappa Score: 17.21 %\n",
      "Confusion Matrix:\n",
      " [[2544 2044]\n",
      " [1480 2410]]\n"
     ]
    }
   ],
   "source": [
    "gaussian = GaussianNB()\n",
    "run_classification(gaussian, X_train_scaled, X_test_scaled, y_train, y_test)"
   ]
  },
  {
   "cell_type": "markdown",
   "id": "24df2720",
   "metadata": {},
   "source": [
    "### K Neighbor"
   ]
  },
  {
   "cell_type": "code",
   "execution_count": 49,
   "id": "4421c81d",
   "metadata": {},
   "outputs": [
    {
     "name": "stdout",
     "output_type": "stream",
     "text": [
      "Accuracy mean 56.68\n",
      "Accuracy interval 55.66 57.69\n",
      "------------------\n",
      "Accuracy: 57.48 %\n",
      "Precision: 53.82 %\n",
      "Recall: 51.67 %\n",
      "F1 Score: 52.72 %\n",
      "Cohens Kappa Score: 14.12 %\n",
      "Confusion Matrix:\n",
      " [[2863 1725]\n",
      " [1880 2010]]\n"
     ]
    }
   ],
   "source": [
    "k_neighbors = KNeighborsClassifier()\n",
    "run_classification(k_neighbors, X_train_scaled, X_test_scaled, y_train, y_test)"
   ]
  },
  {
   "cell_type": "markdown",
   "id": "2db35744",
   "metadata": {},
   "source": [
    "Well, this show us, that even without using the categorical \n",
    "columns we still have the same result as before if we don't\n",
    "filter any of the columns we're using on our ML models"
   ]
  },
  {
   "cell_type": "markdown",
   "id": "71b1711a",
   "metadata": {},
   "source": [
    "### Classification only using categorical columns"
   ]
  },
  {
   "cell_type": "code",
   "execution_count": 50,
   "id": "5a6c2a62",
   "metadata": {},
   "outputs": [],
   "source": [
    "# Divide in train and test\n",
    "from sklearn.model_selection import train_test_split\n",
    "X_train, X_test, y_train, y_test = train_test_split(feature , target, \n",
    "                                                    shuffle = True, \n",
    "                                                    test_size=0.2, \n",
    "                                                    random_state=1)\n"
   ]
  },
  {
   "cell_type": "code",
   "execution_count": 51,
   "id": "8a8c8e17",
   "metadata": {},
   "outputs": [],
   "source": [
    "drop_columns = ['DayOfWeek', 'Length', 'Flight', 'Time']\n",
    "X_train = X_train.drop(columns=drop_columns)\n",
    "X_test = X_test.drop(columns=drop_columns)"
   ]
  },
  {
   "cell_type": "code",
   "execution_count": 52,
   "id": "5882ce4d",
   "metadata": {},
   "outputs": [],
   "source": [
    "X_train, X_test = one_hot_encoding(X_train, X_test, object_column_names)\n",
    "X_train_scaled, X_test_scaled = scaling(X_train, X_test)\n",
    "\n",
    "del X_train\n",
    "del X_test"
   ]
  },
  {
   "cell_type": "markdown",
   "id": "af60aa48",
   "metadata": {},
   "source": [
    "### Decision Tree Classifier"
   ]
  },
  {
   "cell_type": "code",
   "execution_count": 54,
   "id": "302e4cb9",
   "metadata": {},
   "outputs": [
    {
     "name": "stdout",
     "output_type": "stream",
     "text": [
      "Accuracy mean 63.20\n",
      "Accuracy interval 62.17 64.23\n",
      "------------------\n",
      "Accuracy: 63.15 %\n",
      "Precision: 63.37 %\n",
      "Recall: 46.66 %\n",
      "F1 Score: 53.75 %\n",
      "Cohens Kappa Score: 24.28 %\n",
      "Confusion Matrix:\n",
      " [[3539 1049]\n",
      " [2075 1815]]\n"
     ]
    }
   ],
   "source": [
    "descision_tree = DecisionTreeClassifier()\n",
    "run_classification(descision_tree, X_train_scaled, X_test_scaled, y_train, y_test)"
   ]
  },
  {
   "cell_type": "markdown",
   "id": "a1f048f0",
   "metadata": {},
   "source": [
    "### Gaussian"
   ]
  },
  {
   "cell_type": "code",
   "execution_count": 55,
   "id": "cd887a0b",
   "metadata": {},
   "outputs": [
    {
     "name": "stdout",
     "output_type": "stream",
     "text": [
      "Accuracy mean 59.43\n",
      "Accuracy interval 57.26 61.59\n",
      "------------------\n",
      "Accuracy: 58.75 %\n",
      "Precision: 53.93 %\n",
      "Recall: 69.31 %\n",
      "F1 Score: 60.66 %\n",
      "Cohens Kappa Score: 18.7 %\n",
      "Confusion Matrix:\n",
      " [[2285 2303]\n",
      " [1194 2696]]\n"
     ]
    }
   ],
   "source": [
    "gaussian = GaussianNB()\n",
    "run_classification(gaussian, X_train_scaled, X_test_scaled, y_train, y_test)"
   ]
  },
  {
   "cell_type": "markdown",
   "id": "2fb87fdb",
   "metadata": {},
   "source": [
    "Well, i think this proves that filtering our columns is super important to have \n",
    "good results in your classification. We had a better result just using the Airline\n",
    "encoding, so those columns were actually worsening our accuracy"
   ]
  }
 ],
 "metadata": {
  "kernelspec": {
   "display_name": "Python 3 (ipykernel)",
   "language": "python",
   "name": "python3"
  },
  "language_info": {
   "codemirror_mode": {
    "name": "ipython",
    "version": 3
   },
   "file_extension": ".py",
   "mimetype": "text/x-python",
   "name": "python",
   "nbconvert_exporter": "python",
   "pygments_lexer": "ipython3",
   "version": "3.9.12"
  }
 },
 "nbformat": 4,
 "nbformat_minor": 5
}
